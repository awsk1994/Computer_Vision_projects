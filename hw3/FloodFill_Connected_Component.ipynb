{
 "cells": [
  {
   "cell_type": "code",
   "execution_count": null,
   "metadata": {},
   "outputs": [],
   "source": [
    "'''\n",
    "FloodFill modified to traverse the entire image and output different color.\n",
    "'''"
   ]
  },
  {
   "cell_type": "code",
   "execution_count": 183,
   "metadata": {},
   "outputs": [],
   "source": [
    "import numpy as np\n",
    "import cv2\n",
    "import matplotlib.pyplot as plt"
   ]
  },
  {
   "cell_type": "code",
   "execution_count": 222,
   "metadata": {},
   "outputs": [],
   "source": [
    "def get_unique_colors(img):\n",
    "    return (np.unique(img.reshape(-1, img.shape[2]), axis=0))\n",
    "\n",
    "def getNextNewColor(newColor, oldColors):\n",
    "    newColor = (np.random.choice(range(256), size=3))\n",
    "    while np.any([np.all(uc == newColor) for uc in usedColors]): # if newColor matches any of the oldColors\n",
    "        newColor = (np.random.choice(range(256), size=3))\n",
    "    return newColor\n",
    "\n",
    "def floodfill(surface, x, y, oldColors, usedColors):\n",
    "    if surface[x][y] not in oldColors: # Has new color already. No need to look.\n",
    "        return surface, usedColors\n",
    "\n",
    "    colorOfFocus = surface[x][y].copy()\n",
    "    newColor = getNextNewColor(0, usedColors)\n",
    "    usedColors = np.append(usedColors, newColor)\n",
    "\n",
    "    # Add first coord into stack\n",
    "    theStack = [(x, y)]\n",
    "    \n",
    "    while len(theStack) > 0:\n",
    "        x, y = theStack.pop()\n",
    "        \n",
    "        if x < 0 or x > surface.shape[0]-1 or y < 0 or y > surface.shape[1]-1: # Out of Bounds\n",
    "            continue\n",
    "        \n",
    "        if np.all(surface[x][y] == colorOfFocus):\n",
    "            surface[x][y] = newColor\n",
    "            theStack.append((x+1, y))  # right\n",
    "            theStack.append((x-1, y))  # left\n",
    "            theStack.append((x, y+1))  # down\n",
    "            theStack.append((x, y-1))  # up\n",
    "\n",
    "    return surface, usedColors\n",
    "\n",
    "def flood_fill_multi(img, debug=False):\n",
    "    oldColors = get_unique_colors(img)\n",
    "    usedColors = get_unique_colors(img)\n",
    "    \n",
    "    if debug:\n",
    "        print(\"Used Colors\")\n",
    "        plt.imshow(usedColors)\n",
    "        plt.show()\n",
    "\n",
    "    for i in range(img.shape[0]):\n",
    "        for j in range(img.shape[1]):\n",
    "            img, usedColors = floodfill(img, i, j, oldColors, usedColors)\n",
    "\n",
    "    return img"
   ]
  },
  {
   "cell_type": "code",
   "execution_count": 225,
   "metadata": {},
   "outputs": [
    {
     "name": "stdout",
     "output_type": "stream",
     "text": [
      "Orig img\n"
     ]
    },
    {
     "data": {
      "image/png": "[encoded data removed]",
      "text/plain": [
       "<Figure size 432x288 with 1 Axes>"
      ]
     },
     "metadata": {
      "needs_background": "light"
     },
     "output_type": "display_data"
    },
    {
     "name": "stdout",
     "output_type": "stream",
     "text": [
      "FloodFill | after\n"
     ]
    },
    {
     "data": {
      "image/png": "[encoded data removed]",
      "text/plain": [
       "<Figure size 432x288 with 1 Axes>"
      ]
     },
     "metadata": {
      "needs_background": "light"
     },
     "output_type": "display_data"
    }
   ],
   "source": [
    "a = np.array([[(0,0,0), (0,0,0), (0,0,0), (0,0,0), (255,255,255), (255,255,255), (255,255,255), (0,0,0)],\n",
    "             [(0,0,0), (0,0,0), (0,0,0), (0,0,0), (255,255,255), (255,255,255), (255,255,255), (0,0,0)],\n",
    "             [(0,0,0), (0,0,0), (0,0,0), (0,0,0), (0,0,0), (0,0,0), (0,0,0), (0,0,0)],\n",
    "             [(0,0,0), (255,255,255), (255,255,255), (255,255,255), (255,255,255), (255,255,255), (255,255,255), (0,0,0)],\n",
    "             [(0,0,0), (0,0,0), (0,0,0), (0,0,0), (255,255,255), (255,255,255), (255,255,255), (0,0,0)]])\n",
    "\n",
    "print(\"Orig img\")\n",
    "plt.imshow(a)\n",
    "plt.show()\n",
    "\n",
    "a = flood_fill_multi(a, debug=False)\n",
    "\n",
    "print(\"FloodFill | after\")\n",
    "plt.imshow(a)\n",
    "plt.show()"
   ]
  },
  {
   "cell_type": "code",
   "execution_count": null,
   "metadata": {},
   "outputs": [],
   "source": []
  }
 ],
 "metadata": {
  "kernelspec": {
   "display_name": "Python 3",
   "language": "python",
   "name": "python3"
  },
  "language_info": {
   "codemirror_mode": {
    "name": "ipython",
    "version": 3
   },
   "file_extension": ".py",
   "mimetype": "text/x-python",
   "name": "python",
   "nbconvert_exporter": "python",
   "pygments_lexer": "ipython3",
   "version": "3.7.3"
  }
 },
 "nbformat": 4,
 "nbformat_minor": 2
}
