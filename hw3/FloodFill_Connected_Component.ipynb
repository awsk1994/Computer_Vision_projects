{
 "cells": [
  {
   "cell_type": "code",
   "execution_count": 1,
   "metadata": {},
   "outputs": [
    {
     "data": {
      "text/plain": [
       "'\\nFloodFill modified to traverse the entire image and output different color.\\n'"
      ]
     },
     "execution_count": 1,
     "metadata": {},
     "output_type": "execute_result"
    }
   ],
   "source": [
    "'''\n",
    "FloodFill modified to traverse the entire image and output different color.\n",
    "TODO: Sequential Labeling: https://www.youtube.com/watch?v=ticZclUYy88\n",
    "TODO: do a pre-process-3 for tumor cells\n",
    "TODO: filter out components based on area to entire image area ratio.\n",
    "'''"
   ]
  },
  {
   "cell_type": "code",
   "execution_count": 2,
   "metadata": {},
   "outputs": [],
   "source": [
    "import numpy as np\n",
    "import cv2\n",
    "import matplotlib.pyplot as plt\n",
    "import os"
   ]
  },
  {
   "cell_type": "code",
   "execution_count": 3,
   "metadata": {},
   "outputs": [],
   "source": [
    "options = {\n",
    "    'img_dir': './img'\n",
    "}"
   ]
  },
  {
   "cell_type": "code",
   "execution_count": 61,
   "metadata": {},
   "outputs": [],
   "source": [
    "def get_unique_colors(img):\n",
    "    return (np.unique(img.reshape(-1, img.shape[2]), axis=0))\n",
    "\n",
    "def getNextNewColor(usedColors):\n",
    "    newColor = (np.random.choice(range(256), size=3))\n",
    "    while np.any([np.all(uc == newColor) for uc in usedColors]): # if newColor matches any of the oldColors\n",
    "        newColor = (np.random.choice(range(256), size=3))\n",
    "    return newColor\n",
    "\n",
    "def floodfill(surface, x, y, oldColors, usedColors):\n",
    "    if surface[x][y] not in oldColors: # Has new color already. No need to look.\n",
    "        return surface, usedColors\n",
    "\n",
    "    colorOfFocus = surface[x][y].copy()\n",
    "    newColor = getNextNewColor(usedColors)    \n",
    "    usedColors = np.vstack([usedColors, newColor])\n",
    "\n",
    "    # Add first coord into stack\n",
    "    theStack = [(x, y)]\n",
    "    \n",
    "    while len(theStack) > 0:\n",
    "        x, y = theStack.pop()\n",
    "        \n",
    "        if x < 0 or x > surface.shape[0]-1 or y < 0 or y > surface.shape[1]-1: # Out of Bounds\n",
    "            continue\n",
    "        \n",
    "        if np.all(surface[x][y] == colorOfFocus):\n",
    "            surface[x][y] = newColor\n",
    "            theStack.append((x+1, y))  # right\n",
    "            theStack.append((x-1, y))  # left\n",
    "            theStack.append((x, y+1))  # down\n",
    "            theStack.append((x, y-1))  # up\n",
    "\n",
    "    return surface, usedColors\n",
    "\n",
    "def flood_fill_multi(img, debug=False):\n",
    "    oldColors = get_unique_colors(img)\n",
    "    usedColors = get_unique_colors(img)\n",
    "    \n",
    "    if debug:\n",
    "        print(\"Used Colors\")\n",
    "        plt.imshow(usedColors)\n",
    "        plt.show()\n",
    "\n",
    "    for i in range(img.shape[0]):\n",
    "        for j in range(img.shape[1]):\n",
    "            img, usedColors = floodfill(img, i, j, oldColors, usedColors)\n",
    "\n",
    "    return img, usedColors\n",
    "\n",
    "def gen_color_key(color):\n",
    "    return \"_\".join(str(channel) for channel in color)\n",
    "\n",
    "def get_largest_components(img, usedColors, n=2):\n",
    "    h = {}    \n",
    "    for i in range(img.shape[0]):\n",
    "        for j in range(img.shape[1]):\n",
    "            color = img[i][j]re\n",
    "            color_key = gen_color_key(color)\n",
    "            if color_key in h.keys():\n",
    "                h[color_key] += 1\n",
    "            else:\n",
    "                h[color_key] = 1\n",
    "\n",
    "    h_desc = [item[0] for item in sorted(h.items(), key = lambda kv:(kv[1], kv[0]))]\n",
    "    h_desc_rev_filt = list(reversed(h_desc))[:n]\n",
    "    top_n_components = [[int(ck) for ck in colorkey.split('_')] for colorkey in h_desc_rev_filt]\n",
    "    return top_n_components\n",
    "\n",
    "def filter_out_colors(img, colors, bgColor):\n",
    "    for i in range(img.shape[0]):\n",
    "        for j in range(img.shape[1]):\n",
    "            curr_color = img[i][j]\n",
    "            if not np.any([np.all(c == curr_color) for c in colors]):\n",
    "                img[i][j] = bgColor\n",
    "    return img"
   ]
  },
  {
   "cell_type": "code",
   "execution_count": 62,
   "metadata": {},
   "outputs": [
    {
     "name": "stdout",
     "output_type": "stream",
     "text": [
      "Orig img\n"
     ]
    },
    {
     "data": {
      "image/png": "[encoded data removed]",
      "text/plain": [
       "<Figure size 432x288 with 1 Axes>"
      ]
     },
     "metadata": {
      "needs_background": "light"
     },
     "output_type": "display_data"
    },
    {
     "name": "stdout",
     "output_type": "stream",
     "text": [
      "Used Colors\n"
     ]
    },
    {
     "data": {
      "image/png": "[encoded data removed]",
      "text/plain": [
       "<Figure size 432x288 with 1 Axes>"
      ]
     },
     "metadata": {
      "needs_background": "light"
     },
     "output_type": "display_data"
    },
    {
     "name": "stdout",
     "output_type": "stream",
     "text": [
      "[[  0   0   0]\n",
      " [255 255 255]\n",
      " [222 225 253]\n",
      " [ 64  44 164]\n",
      " [214  16 218]\n",
      " [205 117 236]\n",
      " [110 148  71]]\n",
      "FloodFill | after\n"
     ]
    },
    {
     "data": {
      "image/png": "[encoded data removed]",
      "text/plain": [
       "<Figure size 432x288 with 1 Axes>"
      ]
     },
     "metadata": {
      "needs_background": "light"
     },
     "output_type": "display_data"
    },
    {
     "name": "stdout",
     "output_type": "stream",
     "text": [
      "largest_colors [[64, 44, 164], [110, 148, 71], [205, 117, 236]]\n"
     ]
    },
    {
     "data": {
      "image/png": "[encoded data removed]",
      "text/plain": [
       "<Figure size 432x288 with 1 Axes>"
      ]
     },
     "metadata": {
      "needs_background": "light"
     },
     "output_type": "display_data"
    },
    {
     "data": {
      "image/png": "[encoded data removed]",
      "text/plain": [
       "<Figure size 432x288 with 1 Axes>"
      ]
     },
     "metadata": {
      "needs_background": "light"
     },
     "output_type": "display_data"
    }
   ],
   "source": [
    "\n",
    "a = np.array([[(255,255,255), (0,0,0), (255,255,255), (0,0,0), (255,255,255), (255,255,255), (255,255,255), (0,0,0)],\n",
    "             [(255,255,255), (0,0,0), (0,0,0), (0,0,0), (255,255,255), (255,255,255), (255,255,255), (0,0,0)],\n",
    "             [(0,0,0), (0,0,0), (0,0,0), (0,0,0), (0,0,0), (0,0,0), (0,0,0), (0,0,0)],\n",
    "             [(0,0,0), (255,255,255), (255,255,255), (255,255,255), (255,255,255), (255,255,255), (255,255,255), (0,0,0)],\n",
    "             [(0,0,0), (0,0,0), (0,0,0), (0,0,0), (255,255,255), (255,255,255), (255,255,255), (0,0,0)]])\n",
    "\n",
    "print(\"Orig img\")\n",
    "plt.imshow(a)\n",
    "plt.show()\n",
    "\n",
    "a, usedColors = flood_fill_multi(a, debug=True)\n",
    "\n",
    "print(usedColors)\n",
    "print(\"FloodFill | after\")\n",
    "plt.imshow(a)\n",
    "plt.show()\n",
    "\n",
    "largest_colors = get_largest_components(a, usedColors, n=3)\n",
    "print(\"largest_colors\", largest_colors)\n",
    "plt.imshow(np.array([largest_colors]))\n",
    "plt.show()\n",
    "\n",
    "img = filter_out_colors(a, largest_colors, [255, 255, 255])\n",
    "plt.imshow(img)\n",
    "plt.show()\n"
   ]
  },
  {
   "cell_type": "code",
   "execution_count": 64,
   "metadata": {},
   "outputs": [],
   "source": [
    "def img_preprocess_1(img):\n",
    "    kernel_10x10 = np.ones((10,10),np.uint8)\n",
    "    img = cv2.morphologyEx(img, cv2.MORPH_OPEN, kernel_10x10) # Open. Fill in any holes.\n",
    "    img = cv2.GaussianBlur(img, (5,5), 0)\n",
    "    img = cv2.morphologyEx(img, cv2.MORPH_OPEN, kernel_10x10) # Open. Fill in any holes.\n",
    "    img = cv2.GaussianBlur(img, (5,5), 0)\n",
    "\n",
    "    _, img = cv2.threshold(img,250,255,cv2.THRESH_BINARY)\n",
    "    return img\n",
    "\n",
    "def img_preprocess_2(img):\n",
    "    kernel_5x5 = np.ones((5,5),np.uint8)\n",
    "    kernel_3x3 = np.ones((3,3),np.uint8)\n",
    "\n",
    "    img = cv2.morphologyEx(img, cv2.MORPH_OPEN, kernel_5x5) # Open. Fill in any holes.\n",
    "    img = cv2.morphologyEx(img, cv2.MORPH_CLOSE, kernel_3x3) # Close. Remove small blob\n",
    "    _, img = cv2.threshold(img,127,255,cv2.THRESH_BINARY)\n",
    "    return img"
   ]
  },
  {
   "cell_type": "code",
   "execution_count": 83,
   "metadata": {},
   "outputs": [],
   "source": [
    "def get_connected_components(img_path, preprocess_mode, debug=False, output_res=False):\n",
    "    # Open Hand\n",
    "    print(\"img path=\", img_path)  # options['img_dir'] + \"/\" + 'open-bw-full.png'\n",
    "    img = cv2.imread(img_path)\n",
    "\n",
    "    if debug:\n",
    "        print(\"Original\")\n",
    "        plt.imshow(img)\n",
    "        plt.show()\n",
    "\n",
    "    if preprocess_mode == 1:\n",
    "        img = img_preprocess_1(img)\n",
    "    else:\n",
    "        img = img_preprocess_2(img)\n",
    "    img, usedColors, = flood_fill_multi(img, debug=debug)\n",
    "    \n",
    "    if debug:\n",
    "        print(\"After preprocess and floodfill multi\")\n",
    "        plt.imshow(img)\n",
    "        plt.show()\n",
    "\n",
    "    largest_colors = get_largest_components(img, usedColors, n=3)\n",
    "    if debug:\n",
    "        print(\"Largest_colors\", largest_colors)\n",
    "        plt.imshow(np.array([largest_colors]))\n",
    "        plt.show()\n",
    "    \n",
    "    img = filter_out_colors(img, largest_colors, [255, 255, 255])\n",
    "    if debug or output_res:\n",
    "        print(\"After filter out smallest colors\")\n",
    "        plt.imshow(img)\n",
    "        plt.show()\n",
    "    \n",
    "    return img"
   ]
  },
  {
   "cell_type": "code",
   "execution_count": 84,
   "metadata": {},
   "outputs": [
    {
     "name": "stdout",
     "output_type": "stream",
     "text": [
      "img path= ./img/open-bw-full.png\n",
      "After filter out smallest colors\n"
     ]
    },
    {
     "data": {
      "image/png": "[encoded data removed]",
      "text/plain": [
       "<Figure size 432x288 with 1 Axes>"
      ]
     },
     "metadata": {
      "needs_background": "light"
     },
     "output_type": "display_data"
    },
    {
     "name": "stdout",
     "output_type": "stream",
     "text": [
      "img path= ./img/open-bw-partial.png\n",
      "After filter out smallest colors\n"
     ]
    },
    {
     "data": {
      "image/png": "[encoded data removed]",
      "text/plain": [
       "<Figure size 432x288 with 1 Axes>"
      ]
     },
     "metadata": {
      "needs_background": "light"
     },
     "output_type": "display_data"
    },
    {
     "name": "stdout",
     "output_type": "stream",
     "text": [
      "img path= ./img/open_fist-bw.png\n",
      "After filter out smallest colors\n"
     ]
    },
    {
     "data": {
      "image/png": "[encoded data removed]",
      "text/plain": [
       "<Figure size 432x288 with 1 Axes>"
      ]
     },
     "metadata": {
      "needs_background": "light"
     },
     "output_type": "display_data"
    },
    {
     "name": "stdout",
     "output_type": "stream",
     "text": [
      "img path= ./img/tumor-fold.png\n",
      "After filter out smallest colors\n"
     ]
    },
    {
     "data": {
      "image/png": "[encoded data removed]",
      "text/plain": [
       "<Figure size 432x288 with 1 Axes>"
      ]
     },
     "metadata": {
      "needs_background": "light"
     },
     "output_type": "display_data"
    },
    {
     "data": {
      "text/plain": [
       "array([[[146, 102, 244],\n",
       "        [146, 102, 244],\n",
       "        [146, 102, 244],\n",
       "        ...,\n",
       "        [255, 255, 255],\n",
       "        [255, 255, 255],\n",
       "        [255, 255, 255]],\n",
       "\n",
       "       [[146, 102, 244],\n",
       "        [146, 102, 244],\n",
       "        [146, 102, 244],\n",
       "        ...,\n",
       "        [255, 255, 255],\n",
       "        [255, 255, 255],\n",
       "        [255, 255, 255]],\n",
       "\n",
       "       [[146, 102, 244],\n",
       "        [146, 102, 244],\n",
       "        [146, 102, 244],\n",
       "        ...,\n",
       "        [255, 255, 255],\n",
       "        [255, 255, 255],\n",
       "        [255, 255, 255]],\n",
       "\n",
       "       ...,\n",
       "\n",
       "       [[255, 255, 255],\n",
       "        [255, 255, 255],\n",
       "        [255, 255, 255],\n",
       "        ...,\n",
       "        [255, 255, 255],\n",
       "        [255, 255, 255],\n",
       "        [255, 255, 255]],\n",
       "\n",
       "       [[255, 255, 255],\n",
       "        [255, 255, 255],\n",
       "        [255, 255, 255],\n",
       "        ...,\n",
       "        [255, 255, 255],\n",
       "        [255, 255, 255],\n",
       "        [255, 255, 255]],\n",
       "\n",
       "       [[255, 255, 255],\n",
       "        [255, 255, 255],\n",
       "        [255, 255, 255],\n",
       "        ...,\n",
       "        [255, 255, 255],\n",
       "        [255, 255, 255],\n",
       "        [255, 255, 255]]], dtype=uint8)"
      ]
     },
     "execution_count": 84,
     "metadata": {},
     "output_type": "execute_result"
    }
   ],
   "source": [
    "debug = False\n",
    "output_res = True\n",
    "get_connected_components(options['img_dir'] + \"/\" + 'open-bw-full.png', preprocess_mode=1, debug=debug, output_res=output_res)\n",
    "get_connected_components(options['img_dir'] + \"/\" + 'open-bw-partial.png', preprocess_mode=1, debug=debug, output_res=output_res)\n",
    "get_connected_components(options['img_dir'] + \"/\" + 'open_fist-bw.png', preprocess_mode=2, debug=debug, output_res=output_res)\n",
    "get_connected_components(options['img_dir'] + \"/\" + 'tumor-fold.png', preprocess_mode=2, debug=debug, output_res=output_res)"
   ]
  },
  {
   "cell_type": "code",
   "execution_count": null,
   "metadata": {},
   "outputs": [],
   "source": [
    "# TODO. filter by components. Get top 2-3 components."
   ]
  }
 ],
 "metadata": {
  "kernelspec": {
   "display_name": "Python 3",
   "language": "python",
   "name": "python3"
  },
  "language_info": {
   "codemirror_mode": {
    "name": "ipython",
    "version": 3
   },
   "file_extension": ".py",
   "mimetype": "text/x-python",
   "name": "python",
   "nbconvert_exporter": "python",
   "pygments_lexer": "ipython3",
   "version": "3.7.3"
  }
 },
 "nbformat": 4,
 "nbformat_minor": 2
}
