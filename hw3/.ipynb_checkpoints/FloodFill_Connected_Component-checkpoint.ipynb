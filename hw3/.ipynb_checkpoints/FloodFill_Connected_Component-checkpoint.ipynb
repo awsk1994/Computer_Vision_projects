{
 "cells": [
  {
   "cell_type": "code",
   "execution_count": 1,
   "metadata": {},
   "outputs": [
    {
     "data": {
      "text/plain": [
       "'\\nFloodFill modified to traverse the entire image and output different color.\\n'"
      ]
     },
     "execution_count": 1,
     "metadata": {},
     "output_type": "execute_result"
    }
   ],
   "source": [
    "'''\n",
    "FloodFill modified to traverse the entire image and output different color.\n",
    "TODO: Sequential Labeling: https://www.youtube.com/watch?v=ticZclUYy88\n",
    "TODO: do a pre-process-3 for tumor cells\n",
    "TODO: filter out components based on area to entire image area ratio.\n",
    "'''"
   ]
  },
  {
   "cell_type": "code",
   "execution_count": 2,
   "metadata": {},
   "outputs": [],
   "source": [
    "import numpy as np\n",
    "import cv2\n",
    "import matplotlib.pyplot as plt\n",
    "import os"
   ]
  },
  {
   "cell_type": "code",
   "execution_count": 3,
   "metadata": {},
   "outputs": [],
   "source": [
    "options = {\n",
    "    'img_dir': './img'\n",
    "}"
   ]
  },
  {
   "cell_type": "code",
   "execution_count": 61,
   "metadata": {},
   "outputs": [],
   "source": [
    "def get_unique_colors(img):\n",
    "    return (np.unique(img.reshape(-1, img.shape[2]), axis=0))\n",
    "\n",
    "def getNextNewColor(usedColors):\n",
    "    newColor = (np.random.choice(range(256), size=3))\n",
    "    while np.any([np.all(uc == newColor) for uc in usedColors]): # if newColor matches any of the oldColors\n",
    "        newColor = (np.random.choice(range(256), size=3))\n",
    "    return newColor\n",
    "\n",
    "def floodfill(surface, x, y, oldColors, usedColors):\n",
    "    if surface[x][y] not in oldColors: # Has new color already. No need to look.\n",
    "        return surface, usedColors\n",
    "\n",
    "    colorOfFocus = surface[x][y].copy()\n",
    "    newColor = getNextNewColor(usedColors)    \n",
    "    usedColors = np.vstack([usedColors, newColor])\n",
    "\n",
    "    # Add first coord into stack\n",
    "    theStack = [(x, y)]\n",
    "    \n",
    "    while len(theStack) > 0:\n",
    "        x, y = theStack.pop()\n",
    "        \n",
    "        if x < 0 or x > surface.shape[0]-1 or y < 0 or y > surface.shape[1]-1: # Out of Bounds\n",
    "            continue\n",
    "        \n",
    "        if np.all(surface[x][y] == colorOfFocus):\n",
    "            surface[x][y] = newColor\n",
    "            theStack.append((x+1, y))  # right\n",
    "            theStack.append((x-1, y))  # left\n",
    "            theStack.append((x, y+1))  # down\n",
    "            theStack.append((x, y-1))  # up\n",
    "\n",
    "    return surface, usedColors\n",
    "\n",
    "def flood_fill_multi(img, debug=False):\n",
    "    oldColors = get_unique_colors(img)\n",
    "    usedColors = get_unique_colors(img)\n",
    "    \n",
    "    if debug:\n",
    "        print(\"Used Colors\")\n",
    "        plt.imshow(usedColors)\n",
    "        plt.show()\n",
    "\n",
    "    for i in range(img.shape[0]):\n",
    "        for j in range(img.shape[1]):\n",
    "            img, usedColors = floodfill(img, i, j, oldColors, usedColors)\n",
    "\n",
    "    return img, usedColors\n",
    "\n",
    "def gen_color_key(color):\n",
    "    return \"_\".join(str(channel) for channel in color)\n",
    "\n",
    "def get_largest_components(img, usedColors, n=2):\n",
    "    h = {}    \n",
    "    for i in range(img.shape[0]):\n",
    "        for j in range(img.shape[1]):\n",
    "            color = img[i][j]re\n",
    "            color_key = gen_color_key(color)\n",
    "            if color_key in h.keys():\n",
    "                h[color_key] += 1\n",
    "            else:\n",
    "                h[color_key] = 1\n",
    "\n",
    "    h_desc = [item[0] for item in sorted(h.items(), key = lambda kv:(kv[1], kv[0]))]\n",
    "    h_desc_rev_filt = list(reversed(h_desc))[:n]\n",
    "    top_n_components = [[int(ck) for ck in colorkey.split('_')] for colorkey in h_desc_rev_filt]\n",
    "    return top_n_components\n",
    "\n",
    "def filter_out_colors(img, colors, bgColor):\n",
    "    for i in range(img.shape[0]):\n",
    "        for j in range(img.shape[1]):\n",
    "            curr_color = img[i][j]\n",
    "            if not np.any([np.all(c == curr_color) for c in colors]):\n",
    "                img[i][j] = bgColor\n",
    "    return img"
   ]
  },
  {
   "cell_type": "code",
   "execution_count": 173,
   "metadata": {},
   "outputs": [
    {
     "name": "stdout",
     "output_type": "stream",
     "text": [
      "Orig img\n"
     ]
    },
    {
     "data": {
      "image/png": "[encoded data removed]",
      "text/plain": [
       "<Figure size 432x288 with 1 Axes>"
      ]
     },
     "metadata": {
      "needs_background": "light"
     },
     "output_type": "display_data"
    },
    {
     "name": "stdout",
     "output_type": "stream",
     "text": [
      "Used Colors\n"
     ]
    },
    {
     "data": {
      "image/png": "[encoded data removed]",
      "text/plain": [
       "<Figure size 432x288 with 1 Axes>"
      ]
     },
     "metadata": {
      "needs_background": "light"
     },
     "output_type": "display_data"
    },
    {
     "name": "stdout",
     "output_type": "stream",
     "text": [
      "[[  0   0   0]\n",
      " [255 255 255]\n",
      " [100 171 248]\n",
      " [  4  64 114]\n",
      " [  4 240 230]\n",
      " [ 56 124 135]\n",
      " [250  46 190]]\n",
      "FloodFill | after\n"
     ]
    },
    {
     "data": {
      "image/png": "[encoded data removed]",
      "text/plain": [
       "<Figure size 432x288 with 1 Axes>"
      ]
     },
     "metadata": {
      "needs_background": "light"
     },
     "output_type": "display_data"
    },
    {
     "name": "stdout",
     "output_type": "stream",
     "text": [
      "largest_colors [[4, 64, 114], [250, 46, 190], [56, 124, 135]]\n"
     ]
    },
    {
     "data": {
      "image/png": "[encoded data removed]",
      "text/plain": [
       "<Figure size 432x288 with 1 Axes>"
      ]
     },
     "metadata": {
      "needs_background": "light"
     },
     "output_type": "display_data"
    },
    {
     "data": {
      "image/png": "[encoded data removed]",
      "text/plain": [
       "<Figure size 432x288 with 1 Axes>"
      ]
     },
     "metadata": {
      "needs_background": "light"
     },
     "output_type": "display_data"
    }
   ],
   "source": [
    "def test_flood_fill_multi():\n",
    "    a = np.array([[(255,255,255), (0,0,0), (255,255,255), (0,0,0), (255,255,255), (255,255,255), (255,255,255), (0,0,0)],\n",
    "                 [(255,255,255), (0,0,0), (0,0,0), (0,0,0), (255,255,255), (255,255,255), (255,255,255), (0,0,0)],\n",
    "                 [(0,0,0), (0,0,0), (0,0,0), (0,0,0), (0,0,0), (0,0,0), (0,0,0), (0,0,0)],\n",
    "                 [(0,0,0), (255,255,255), (255,255,255), (255,255,255), (255,255,255), (255,255,255), (255,255,255), (0,0,0)],\n",
    "                 [(0,0,0), (0,0,0), (0,0,0), (0,0,0), (255,255,255), (255,255,255), (255,255,255), (0,0,0)]])\n",
    "\n",
    "    print(\"Orig img\")\n",
    "    plt.imshow(a)\n",
    "    plt.show()\n",
    "\n",
    "    a, usedColors = flood_fill_multi(a, debug=True)\n",
    "\n",
    "    print(usedColors)\n",
    "    print(\"FloodFill | after\")\n",
    "    plt.imshow(a)\n",
    "    plt.show()\n",
    "\n",
    "    largest_colors = get_largest_components(a, usedColors, n=3)\n",
    "    print(\"largest_colors\", largest_colors)\n",
    "    plt.imshow(np.array([largest_colors]))\n",
    "    plt.show()\n",
    "\n",
    "    img = filter_out_colors(a, largest_colors, [255, 255, 255])\n",
    "    plt.imshow(img)\n",
    "    plt.show()\n",
    "\n",
    "test_flood_fill_multi()"
   ]
  },
  {
   "cell_type": "code",
   "execution_count": 292,
   "metadata": {},
   "outputs": [],
   "source": [
    "def img_preprocess_1(img):\n",
    "    kernel_10x10 = np.ones((10,10),np.uint8)\n",
    "    img = cv2.morphologyEx(img, cv2.MORPH_OPEN, kernel_10x10) # Open. Fill in any holes.\n",
    "    img = cv2.GaussianBlur(img, (5,5), 0)\n",
    "    img = cv2.morphologyEx(img, cv2.MORPH_OPEN, kernel_10x10) # Open. Fill in any holes.\n",
    "    img = cv2.GaussianBlur(img, (5,5), 0)\n",
    "\n",
    "    _, img = cv2.threshold(img,250,255,cv2.THRESH_BINARY)\n",
    "    return img\n",
    "\n",
    "def img_preprocess_2(img):\n",
    "    kernel_5x5 = np.ones((5,5),np.uint8)\n",
    "    kernel_3x3 = np.ones((3,3),np.uint8)\n",
    "\n",
    "    img = cv2.morphologyEx(img, cv2.MORPH_OPEN, kernel_5x5) # Open. Fill in any holes.\n",
    "    img = cv2.morphologyEx(img, cv2.MORPH_CLOSE, kernel_3x3) # Close. Remove small blob\n",
    "    _, img = cv2.threshold(img,127,255,cv2.THRESH_BINARY)\n",
    "    return img\n",
    "\n",
    "def img_preprocess_3(img):\n",
    "    kernel_10x10 = np.ones((10,10),np.uint8)\n",
    "    kernel_7x7 = np.ones((7,7),np.uint8)\n",
    "    kernel_3x3 = np.ones((3,3),np.uint8)\n",
    "    \n",
    "    img = cv2.morphologyEx(img, cv2.MORPH_CLOSE, kernel_10x10) # Close. Remove small blob    \n",
    "    img = cv2.morphologyEx(img, cv2.MORPH_CLOSE, kernel_10x10) # Close. Remove small blob\n",
    "    img = cv2.morphologyEx(img, cv2.MORPH_CLOSE, kernel_7x7) # Close. Remove small blob\n",
    "    img = cv2.morphologyEx(img, cv2.MORPH_OPEN, kernel_3x3) # Close. Remove small blob\n",
    "    _, img = cv2.threshold(img,127,255,cv2.THRESH_BINARY)\n",
    "    return img"
   ]
  },
  {
   "cell_type": "code",
   "execution_count": 293,
   "metadata": {},
   "outputs": [],
   "source": [
    "def get_connected_components(img_path, preprocess_mode, debug=False, output_res=False):\n",
    "    # Open Hand\n",
    "    print(\"img path=\", img_path)  # options['img_dir'] + \"/\" + 'open-bw-full.png'\n",
    "    img = cv2.imread(img_path)\n",
    "\n",
    "    if debug:\n",
    "        print(\"Original\")\n",
    "        plt.imshow(img)\n",
    "        plt.show()\n",
    "\n",
    "    if preprocess_mode == 1:\n",
    "        img = img_preprocess_1(img)\n",
    "    elif preprocess_mode == 2:\n",
    "        img = img_preprocess_2(img)\n",
    "    else:\n",
    "        img = img_preprocess_3(img)\n",
    "\n",
    "    img, usedColors, = flood_fill_multi(img, debug=debug)\n",
    "    \n",
    "    if debug:\n",
    "        print(\"After preprocess and floodfill multi\")\n",
    "        plt.imshow(img)\n",
    "        plt.show()\n",
    "\n",
    "    largest_colors = get_largest_components(img, usedColors, n=3)\n",
    "    if debug:\n",
    "        print(\"Largest_colors\", largest_colors)\n",
    "        plt.imshow(np.array([largest_colors]))\n",
    "        plt.show()\n",
    "    \n",
    "    largest_colors = largest_colors[1:]\n",
    "    \n",
    "    img = filter_out_colors(img, largest_colors, [255, 255, 255])\n",
    "    if debug or output_res:\n",
    "        print(\"After filter out smallest colors\")\n",
    "        plt.imshow(img)\n",
    "        plt.show()\n",
    "    \n",
    "    return img, largest_colors"
   ]
  },
  {
   "cell_type": "code",
   "execution_count": 156,
   "metadata": {},
   "outputs": [],
   "source": [
    "\n",
    "def get_next_cw_pos(center, curr): # TODO, p = center, b = current pos\n",
    "#     '''\n",
    "#     C is left of center. \n",
    "#     [[...],\n",
    "#      [C center X]]\n",
    "#     '''\n",
    "    if curr[1] == center[1] and curr[0]+1 == center[0]: \n",
    "        return [curr[0], curr[1]-1]\n",
    "#     '''\n",
    "#     C is left-top of center. \n",
    "#     [[C X X],\n",
    "#      [X center X]]\n",
    "#      '''\n",
    "    elif curr[1]+1 == center[1] and curr[0]+1 == center[0]: \n",
    "        return [curr[0]+1, curr[1]]\n",
    "#     '''\n",
    "#     C is top of center. \n",
    "#     [[X C X],\n",
    "#      [X center X]]\n",
    "#     '''\n",
    "    elif curr[1]+1 == center[1] and curr[0] == center[0]: \n",
    "        return [curr[0]+1, curr[1]]\n",
    "#     '''\n",
    "#     C is top-right of center. \n",
    "#     [[X X C],\n",
    "#      [X center X]]\n",
    "#     '''\n",
    "    elif curr[1]+1 == center[1] and curr[0]-1 == center[0]: \n",
    "        return [curr[0], curr[1]+1]\n",
    "#     '''\n",
    "#     C is right of center. \n",
    "#     [[X X X],\n",
    "#      [X center C]]\n",
    "#     '''\n",
    "    elif curr[1] == center[1] and curr[0]-1 == center[0]: \n",
    "        return [curr[0], curr[1]+1]\n",
    "#     '''\n",
    "#     C is right-bot of center. \n",
    "#     [[X X X],\n",
    "#      [X center X],\n",
    "#      [X X C]]\n",
    "#     '''\n",
    "    elif curr[1]-1 == center[1] and curr[0]-1 == center[0]: \n",
    "        return [curr[0]-1, curr[1]]\n",
    "#     '''\n",
    "#     C is bot of center. \n",
    "#     [[X X X],\n",
    "#      [X center X],\n",
    "#      [X C X]]\n",
    "#     '''\n",
    "    elif curr[1]-1 == center[1] and curr[0] == center[0]: \n",
    "        return [curr[0]-1, curr[1]]\n",
    "#     '''\n",
    "#     C is left-bot of center. \n",
    "#     [[X X X],\n",
    "#      [X center X],\n",
    "#      [C X X]]\n",
    "#     '''\n",
    "    elif curr[1]-1 == center[1] and curr[0]+1 == center[0]: \n",
    "        return [curr[0], curr[1]-1]\n",
    "#     '''\n",
    "#     C is left of center. \n",
    "#     [[X X X],\n",
    "#      [C center X],\n",
    "#      [X X X]]\n",
    "#     '''\n",
    "    elif curr[1] == center[1] and curr[0]+1 == center[0]: \n",
    "        return [curr[0], curr[1]-1]\n",
    "    else:\n",
    "        print(\"ERROR\")        "
   ]
  },
  {
   "cell_type": "code",
   "execution_count": 238,
   "metadata": {},
   "outputs": [
    {
     "name": "stdout",
     "output_type": "stream",
     "text": [
      "in([0, 0]). out([1, 0])\n",
      "in([1, 0]). out([2, 0])\n",
      "in([2, 0]). out([2, 1])\n",
      "in([2, 1]). out([2, 2])\n",
      "in([2, 2]). out([1, 2])\n",
      "in([1, 2]). out([0, 2])\n",
      "in([0, 2]). out([0, 1])\n",
      "in([0, 1]). out([0, 0])\n"
     ]
    }
   ],
   "source": [
    "def test_get_next_cw_pos():\n",
    "    # Test get_next_cw_pos\n",
    "    img = np.array([[[0,0,0], [0,0,0], [0,0,0]],\n",
    "                    [[0,0,0], [0,0,0], [0,0,0]],\n",
    "                    [[0,0,0], [0,0,0], [0,0,0]]])\n",
    "\n",
    "    center = [1,1]\n",
    "\n",
    "    in_coord = [0,0]\n",
    "    print(\"in({}). out({})\".format(in_coord, get_next_cw_pos(center, in_coord)))\n",
    "    in_coord = [1,0]\n",
    "    print(\"in({}). out({})\".format(in_coord, get_next_cw_pos(center, in_coord)))\n",
    "    in_coord = [2,0]\n",
    "    print(\"in({}). out({})\".format(in_coord, get_next_cw_pos(center, in_coord)))\n",
    "    in_coord = [2,1]\n",
    "    print(\"in({}). out({})\".format(in_coord, get_next_cw_pos(center, in_coord)))\n",
    "    in_coord = [2,2]\n",
    "    print(\"in({}). out({})\".format(in_coord, get_next_cw_pos(center, in_coord)))\n",
    "    in_coord = [1,2]\n",
    "    print(\"in({}). out({})\".format(in_coord, get_next_cw_pos(center, in_coord)))\n",
    "    in_coord = [0,2]\n",
    "    print(\"in({}). out({})\".format(in_coord, get_next_cw_pos(center, in_coord)))\n",
    "    in_coord = [0,1]\n",
    "    print(\"in({}). out({})\".format(in_coord, get_next_cw_pos(center, in_coord)))\n",
    "\n",
    "test_get_next_cw_pos()"
   ]
  },
  {
   "cell_type": "code",
   "execution_count": 254,
   "metadata": {},
   "outputs": [],
   "source": [
    "def boundary_tracing(img, target_colors, boundary_draw_color, debug=False):\n",
    "    \n",
    "    print(\"debug={}\".format(debug))\n",
    "    \n",
    "    B = []\n",
    "    ptColor = [255,255,255]\n",
    "    start = None\n",
    "    \n",
    "#     print(\"shape:\", img.shape)\n",
    "\n",
    "    #   From bottom to top and left to right scan the cells of T until a black pixel, s, of P is found.\n",
    "    for j in range(img.shape[0]):\n",
    "        if start is not None:\n",
    "            break\n",
    "        for i in range(img.shape[1]):\n",
    "\n",
    "            if start is not None:\n",
    "                break\n",
    "            \n",
    "            if np.any([np.all(img[j][i] == tc) for tc in target_colors]): # is ptColor\n",
    "                start = [i,j]\n",
    "                if debug:\n",
    "                    print(\"Found first black pixel (i,j) = ({})\".format(start))\n",
    "\n",
    "    if start is None:\n",
    "        print(\"ERROR | Start is None\")\n",
    "        return None, None\n",
    "\n",
    "    B.append(start)\n",
    "    p = start\n",
    "    b = [start[0]-1, start[1]] # TODO: border handle cases.\n",
    "    c = get_next_cw_pos(p, b)\n",
    "    if debug:\n",
    "        print(\"About to start. Next move is c={}, b={}\".format(c,b))\n",
    "\n",
    "    while not np.all(c == start): # while c != start\n",
    "        if c[0] < 0 or c[0] > img.shape[1]-1 or c[1] < 0 or c[1] > img.shape[0]-1: # Out of bounds\n",
    "            b = c\n",
    "            c = get_next_cw_pos(p, b)\n",
    "            if debug:\n",
    "                print(\"out of bounds. Continue . Next move is c={}, b={}\".format(c,b))\n",
    "        elif np.any([np.all(img[c[1]][c[0]] == tc) for tc in target_colors]): # color at c is pointColor\n",
    "            B.append(c)\n",
    "            p = c\n",
    "            c = get_next_cw_pos(p, b)\n",
    "            if debug:\n",
    "                print(\"Add c into B. Next move is B={}, c={}, b={}.\".format(B,c,b))\n",
    "        else:\n",
    "            b = c\n",
    "            c = get_next_cw_pos(p, b)\n",
    "            if debug:\n",
    "                print(\"No find black pixel. Next move is c={}, b={}\".format(c,b))\n",
    "                \n",
    "                \n",
    "    # Draw Boundary\n",
    "    boundary_img = img.copy()\n",
    "    for b_coord in B:\n",
    "        boundary_img[b_coord[1]][b_coord[0]] = boundary_draw_color\n",
    "\n",
    "    return B, boundary_img"
   ]
  },
  {
   "cell_type": "code",
   "execution_count": 246,
   "metadata": {},
   "outputs": [
    {
     "data": {
      "image/png": "[encoded data removed]",
      "text/plain": [
       "<Figure size 432x288 with 1 Axes>"
      ]
     },
     "metadata": {
      "needs_background": "light"
     },
     "output_type": "display_data"
    },
    {
     "name": "stdout",
     "output_type": "stream",
     "text": [
      "debug=True\n",
      "Found first black pixel (i,j) = ([0, 1])\n",
      "About to start. Next move is c=[-1, 0], b=[-1, 1]\n",
      "out of bounds\n",
      "No find black pixel. Next move is c=[1, 0], b=[0, 0]\n",
      "No find black pixel. Next move is c=[1, 1], b=[1, 0]\n",
      "Add c into B. Next move is B=[[0, 1], [1, 1]], c=[2, 0], b=[1, 0].\n",
      "No find black pixel. Next move is c=[2, 1], b=[2, 0]\n",
      "Add c into B. Next move is B=[[0, 1], [1, 1], [2, 1]], c=[3, 0], b=[2, 0].\n",
      "No find black pixel. Next move is c=[3, 1], b=[3, 0]\n",
      "Add c into B. Next move is B=[[0, 1], [1, 1], [2, 1], [3, 1]], c=[4, 0], b=[3, 0].\n",
      "No find black pixel. Next move is c=[4, 1], b=[4, 0]\n",
      "Add c into B. Next move is B=[[0, 1], [1, 1], [2, 1], [3, 1], [4, 1]], c=[5, 0], b=[4, 0].\n",
      "No find black pixel. Next move is c=[5, 1], b=[5, 0]\n",
      "Add c into B. Next move is B=[[0, 1], [1, 1], [2, 1], [3, 1], [4, 1], [5, 1]], c=[6, 0], b=[5, 0].\n",
      "No find black pixel. Next move is c=[6, 1], b=[6, 0]\n",
      "No find black pixel. Next move is c=[6, 2], b=[6, 1]\n",
      "No find black pixel. Next move is c=[5, 2], b=[6, 2]\n",
      "Add c into B. Next move is B=[[0, 1], [1, 1], [2, 1], [3, 1], [4, 1], [5, 1], [5, 2]], c=[6, 3], b=[6, 2].\n",
      "No find black pixel. Next move is c=[5, 3], b=[6, 3]\n",
      "Add c into B. Next move is B=[[0, 1], [1, 1], [2, 1], [3, 1], [4, 1], [5, 1], [5, 2], [5, 3]], c=[6, 4], b=[6, 3].\n",
      "No find black pixel. Next move is c=[5, 4], b=[6, 4]\n",
      "No find black pixel. Next move is c=[4, 4], b=[5, 4]\n",
      "No find black pixel. Next move is c=[4, 3], b=[4, 4]\n",
      "Add c into B. Next move is B=[[0, 1], [1, 1], [2, 1], [3, 1], [4, 1], [5, 1], [5, 2], [5, 3], [4, 3]], c=[3, 4], b=[4, 4].\n",
      "No find black pixel. Next move is c=[3, 3], b=[3, 4]\n",
      "Add c into B. Next move is B=[[0, 1], [1, 1], [2, 1], [3, 1], [4, 1], [5, 1], [5, 2], [5, 3], [4, 3], [3, 3]], c=[2, 4], b=[3, 4].\n",
      "No find black pixel. Next move is c=[2, 3], b=[2, 4]\n",
      "Add c into B. Next move is B=[[0, 1], [1, 1], [2, 1], [3, 1], [4, 1], [5, 1], [5, 2], [5, 3], [4, 3], [3, 3], [2, 3]], c=[1, 4], b=[2, 4].\n",
      "No find black pixel. Next move is c=[1, 3], b=[1, 4]\n",
      "Add c into B. Next move is B=[[0, 1], [1, 1], [2, 1], [3, 1], [4, 1], [5, 1], [5, 2], [5, 3], [4, 3], [3, 3], [2, 3], [1, 3]], c=[0, 4], b=[1, 4].\n",
      "No find black pixel. Next move is c=[0, 3], b=[0, 4]\n",
      "Add c into B. Next move is B=[[0, 1], [1, 1], [2, 1], [3, 1], [4, 1], [5, 1], [5, 2], [5, 3], [4, 3], [3, 3], [2, 3], [1, 3], [0, 3]], c=[-1, 4], b=[0, 4].\n",
      "out of bounds\n",
      "out of bounds\n",
      "out of bounds\n",
      "Add c into B. Next move is B=[[0, 1], [1, 1], [2, 1], [3, 1], [4, 1], [5, 1], [5, 2], [5, 3], [4, 3], [3, 3], [2, 3], [1, 3], [0, 3], [0, 2]], c=[-1, 1], b=[-1, 2].\n",
      "out of bounds\n",
      "boundary= [[0, 1], [1, 1], [2, 1], [3, 1], [4, 1], [5, 1], [5, 2], [5, 3], [4, 3], [3, 3], [2, 3], [1, 3], [0, 3], [0, 2]]\n"
     ]
    },
    {
     "data": {
      "image/png": "[encoded data removed]",
      "text/plain": [
       "<Figure size 432x288 with 1 Axes>"
      ]
     },
     "metadata": {
      "needs_background": "light"
     },
     "output_type": "display_data"
    }
   ],
   "source": [
    "def test_boundary_tracing():\n",
    "    # Input\n",
    "    img = np.array([[[0,0,0], [0,0,0], [0,0,0], [0,0,0], [0,0,0], [0,0,0], [0,0,0], [0,0,0]],\n",
    "                 [[255,255,255], [255,255,255], [255,255,255], [255,255,255], [255,255,255], [255,255,255], [0,0,0], [0,0,0]],\n",
    "                 [[255,255,255], [255,255,255], [255,255,255], [255,255,255], [255,255,255], [255,255,255], [0,0,0], [0,0,0]],\n",
    "                 [[255,255,255], [255,255,255], [255,255,255], [255,255,255], [255,255,255], [255,255,255], [0,0,0], [0,0,0]],\n",
    "                 [[0,0,0], [0,0,0], [0,0,0], [0,0,0], [0,0,0], [0,0,0], [0,0,0], [0,0,0]]])\n",
    "\n",
    "    plt.imshow(img)\n",
    "    plt.show()\n",
    "\n",
    "    # Boundary Tracing Algorithm\n",
    "    boundary, boundary_img = boundary_tracing(img, [[255,255,255]], [0,0,255], debug=True)\n",
    "    print(\"boundary=\", boundary)\n",
    "    plt.imshow(boundary_img)\n",
    "    plt.show()\n",
    "test_boundary_tracing()"
   ]
  },
  {
   "cell_type": "code",
   "execution_count": 257,
   "metadata": {},
   "outputs": [
    {
     "name": "stdout",
     "output_type": "stream",
     "text": [
      "img path= ./img/open-bw-full.png\n"
     ]
    },
    {
     "data": {
      "image/png": "[encoded data removed]",
      "text/plain": [
       "<Figure size 432x288 with 1 Axes>"
      ]
     },
     "metadata": {
      "needs_background": "light"
     },
     "output_type": "display_data"
    },
    {
     "name": "stdout",
     "output_type": "stream",
     "text": [
      "img path= ./img/open-bw-partial.png\n"
     ]
    },
    {
     "data": {
      "image/png": "[encoded data removed]",
      "text/plain": [
       "<Figure size 432x288 with 1 Axes>"
      ]
     },
     "metadata": {
      "needs_background": "light"
     },
     "output_type": "display_data"
    },
    {
     "name": "stdout",
     "output_type": "stream",
     "text": [
      "img path= ./img/open_fist-bw.png\n"
     ]
    },
    {
     "data": {
      "image/png": "[encoded data removed]",
      "text/plain": [
       "<Figure size 432x288 with 1 Axes>"
      ]
     },
     "metadata": {
      "needs_background": "light"
     },
     "output_type": "display_data"
    },
    {
     "name": "stdout",
     "output_type": "stream",
     "text": [
      "img path= ./img/tumor-fold.png\n"
     ]
    },
    {
     "data": {
      "image/png": "[encoded data removed]",
      "text/plain": [
       "<Figure size 432x288 with 1 Axes>"
      ]
     },
     "metadata": {
      "needs_background": "light"
     },
     "output_type": "display_data"
    }
   ],
   "source": [
    "debug = False\n",
    "output_res = False\n",
    "open_full_cc, open_full_colors = get_connected_components(options['img_dir'] + \"/\" + 'open-bw-full.png', preprocess_mode=1, debug=debug, output_res=output_res)\n",
    "plt.imshow(open_full_cc)\n",
    "plt.show()\n",
    "\n",
    "open_partial_cc, open_partial_colors = get_connected_components(options['img_dir'] + \"/\" + 'open-bw-partial.png', preprocess_mode=1, debug=debug, output_res=output_res)\n",
    "plt.imshow(open_partial_cc)\n",
    "plt.show()\n",
    "\n",
    "open_fist_cc, open_fist_colors = get_connected_components(options['img_dir'] + \"/\" + 'open_fist-bw.png', preprocess_mode=2, debug=debug, output_res=output_res)\n",
    "plt.imshow(open_fist_cc)\n",
    "plt.show()\n",
    "\n",
    "tumor_cc, tumor_colors = get_connected_components(options['img_dir'] + \"/\" + 'tumor-fold.png', preprocess_mode=3, debug=debug, output_res=output_res)\n",
    "plt.imshow(tumor_cc)\n",
    "plt.show()"
   ]
  },
  {
   "cell_type": "code",
   "execution_count": 258,
   "metadata": {},
   "outputs": [
    {
     "name": "stdout",
     "output_type": "stream",
     "text": [
      "debug=False\n"
     ]
    },
    {
     "data": {
      "image/png": "[encoded data removed]",
      "text/plain": [
       "<Figure size 432x288 with 1 Axes>"
      ]
     },
     "metadata": {
      "needs_background": "light"
     },
     "output_type": "display_data"
    },
    {
     "name": "stdout",
     "output_type": "stream",
     "text": [
      "debug=False\n"
     ]
    },
    {
     "data": {
      "image/png": "[encoded data removed]",
      "text/plain": [
       "<Figure size 432x288 with 1 Axes>"
      ]
     },
     "metadata": {
      "needs_background": "light"
     },
     "output_type": "display_data"
    }
   ],
   "source": [
    "boundary, open_full_boundary_img = boundary_tracing(open_full_cc, open_full_colors, [0,0,0], debug=False)\n",
    "plt.imshow(open_full_cc_boundary_img)\n",
    "plt.show()\n",
    "\n",
    "\n",
    "boundary, open_partial_boundary_img = boundary_tracing(open_partial_cc, open_partial_colors, [0,0,0], debug=False)\n",
    "plt.imshow(open_partial_boundary_img)\n",
    "plt.show()"
   ]
  },
  {
   "cell_type": "code",
   "execution_count": 259,
   "metadata": {},
   "outputs": [
    {
     "name": "stdout",
     "output_type": "stream",
     "text": [
      "debug=False\n"
     ]
    },
    {
     "data": {
      "image/png": "[encoded data removed]",
      "text/plain": [
       "<Figure size 432x288 with 1 Axes>"
      ]
     },
     "metadata": {
      "needs_background": "light"
     },
     "output_type": "display_data"
    },
    {
     "name": "stdout",
     "output_type": "stream",
     "text": [
      "debug=False\n"
     ]
    },
    {
     "data": {
      "image/png": "[encoded data removed]",
      "text/plain": [
       "<Figure size 432x288 with 1 Axes>"
      ]
     },
     "metadata": {
      "needs_background": "light"
     },
     "output_type": "display_data"
    }
   ],
   "source": [
    "boundary, open_fist_boundary_img = boundary_tracing(open_fist_cc, open_fist_colors, [0,0,0], debug=False)\n",
    "plt.imshow(open_fist_boundary_img)\n",
    "plt.show()\n",
    "\n",
    "boundary, tumor_boundary_img = boundary_tracing(tumor_cc, tumor_colors, [0,0,0], debug=False)\n",
    "plt.imshow(tumor_boundary_img)\n",
    "plt.show()"
   ]
  },
  {
   "cell_type": "code",
   "execution_count": 233,
   "metadata": {},
   "outputs": [
    {
     "name": "stdout",
     "output_type": "stream",
     "text": [
      "[254 184 250]\n"
     ]
    }
   ],
   "source": [
    "\n",
    "print(open_full_cc[100][100])\n",
    "\n"
   ]
  }
 ],
 "metadata": {
  "kernelspec": {
   "display_name": "Python 3",
   "language": "python",
   "name": "python3"
  }
 },
 "nbformat": 4,
 "nbformat_minor": 2
}
