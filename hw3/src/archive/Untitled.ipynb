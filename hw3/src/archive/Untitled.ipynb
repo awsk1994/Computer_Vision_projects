{
 "cells": [
  {
   "cell_type": "code",
   "execution_count": 9,
   "metadata": {},
   "outputs": [
    {
     "name": "stdout",
     "output_type": "stream",
     "text": [
      "-0.4074442741949158\n",
      "-23.344837298139755\n",
      "-0.6748107327727212\n",
      "-38.66380695800735\n",
      "-0.16991093262367166\n",
      "-9.735179332468077\n",
      "0.4105062736524328\n",
      "23.520276943926824\n",
      "0.5441290098714954\n",
      "31.176295776268994\n"
     ]
    }
   ],
   "source": [
    "import numpy as np\n",
    "\n",
    "def get_theta(a,b,c,x_bar, y_bar):\n",
    "    arctan_num = (2 * (b - x_bar * y_bar))\n",
    "    arctan_denum = ((a - pow(x_bar, 2)) - (c - pow(y_bar, 2)))\n",
    "    theta = 0.5 * np.arctan(arctan_num/arctan_denum)\n",
    "    print(theta)\n",
    "    print(np.rad2deg(theta))\n",
    "\n",
    "    \n",
    "a=235120067.8414066\n",
    "b=-57870978.41777308\n",
    "c=125886087.62719011\n",
    "x_bar=271.20821185031684\n",
    "y_bar=137.2230307703429\n",
    "get_theta(a,b,c,x_bar,y_bar)\n",
    "\n",
    "a=160749343.87207532\n",
    "b=-77337579.57238068\n",
    "x_bar=290.9820970858472\n",
    "y_bar=135.5995898891912\n",
    "get_theta(a,b,c,x_bar,y_bar)\n",
    "\n",
    "a=89043076.54546139\n",
    "b=19328815.27272711\n",
    "c=198024368.1526103\n",
    "x_bar=308.09090909090907\n",
    "y_bar=171.36926905947078\n",
    "get_theta(a,b,c,x_bar,y_bar)\n",
    "\n",
    "a=53261185.102382325\n",
    "b=-31665107.31973502\n",
    "c=112292013.04629795\n",
    "x_bar=83.29162684944146\n",
    "y_bar=189.178040662998\n",
    "get_theta(a,b,c,x_bar,y_bar)\n",
    "\n",
    "\n",
    "a=2578679887.125946\n",
    "b=2037278619.4927902\n",
    "c=444214722.6599247\n",
    "x_bar=689.3639743892043\n",
    "y_bar=388.7014129468739\n",
    "get_theta(a,b,c,x_bar,y_bar)\n"
   ]
  }
 ],
 "metadata": {
  "kernelspec": {
   "display_name": "Python 3",
   "language": "python",
   "name": "python3"
  },
  "language_info": {
   "codemirror_mode": {
    "name": "ipython",
    "version": 3
   },
   "file_extension": ".py",
   "mimetype": "text/x-python",
   "name": "python",
   "nbconvert_exporter": "python",
   "pygments_lexer": "ipython3",
   "version": "3.7.3"
  }
 },
 "nbformat": 4,
 "nbformat_minor": 2
}
