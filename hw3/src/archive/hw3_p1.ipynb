{
 "cells": [
  {
   "cell_type": "code",
   "execution_count": 1,
   "metadata": {},
   "outputs": [],
   "source": [
    "import numpy as np\n",
    "import cv2\n",
    "import matplotlib.pyplot as plt\n",
    "import os"
   ]
  },
  {
   "cell_type": "code",
   "execution_count": 2,
   "metadata": {},
   "outputs": [],
   "source": [
    "options = {\n",
    "    'img_dir': '../img/p1',\n",
    "    'write_output': False,\n",
    "    'show_res': False,\n",
    "    'show_moment_res': True,\n",
    "    'debug': True\n",
    "}"
   ]
  },
  {
   "cell_type": "code",
   "execution_count": 3,
   "metadata": {},
   "outputs": [
    {
     "ename": "SyntaxError",
     "evalue": "invalid syntax (<ipython-input-3-7cdc11ae7126>, line 1)",
     "output_type": "error",
     "traceback": [
      "\u001b[0;36m  File \u001b[0;32m\"<ipython-input-3-7cdc11ae7126>\"\u001b[0;36m, line \u001b[0;32m1\u001b[0m\n\u001b[0;31m    from ../hw3_p1_utils import *\u001b[0m\n\u001b[0m           ^\u001b[0m\n\u001b[0;31mSyntaxError\u001b[0m\u001b[0;31m:\u001b[0m invalid syntax\n"
     ]
    }
   ],
   "source": [
    "from ../hw3_p1_utils import *"
   ]
  },
  {
   "cell_type": "code",
   "execution_count": null,
   "metadata": {},
   "outputs": [],
   "source": [
    "# Original\n",
    "open_full = cv2.imread(options['img_dir'] + \"/\" + 'open-bw-full.png')\n",
    "open_partial = cv2.imread(options['img_dir'] + \"/\" + 'open-bw-partial.png')\n",
    "open_fist = cv2.imread(options['img_dir'] + \"/\" + 'open_fist-bw.png')\n",
    "tumor = cv2.imread(options['img_dir'] + \"/\" + 'tumor-fold.png')\n",
    "\n",
    "if options['show_res']:\n",
    "    plt.imshow(open_full)\n",
    "    plt.show()\n",
    "    plt.imshow(open_partial)\n",
    "    plt.show()\n",
    "    plt.imshow(open_fist)\n",
    "    plt.show()\n",
    "    plt.imshow(tumor)\n",
    "    plt.show()"
   ]
  },
  {
   "cell_type": "code",
   "execution_count": null,
   "metadata": {},
   "outputs": [],
   "source": [
    "# 1,2. Connected Components + Filter largest components\n",
    "open_full_cc, open_full_colors = get_connected_components(open_full, preprocess_mode=0, n=2, debug=options['debug'], output_res=options['debug'])\n",
    "open_partial_cc, open_partial_colors = get_connected_components(open_partial, preprocess_mode=1, n=2, debug=options['debug'], output_res=options['debug'])\n",
    "open_fist_cc, open_fist_colors = get_connected_components(open_fist, preprocess_mode=2, debug=options['debug'], n=3, output_res=options['debug'])\n",
    "tumor_cc, tumor_colors = get_connected_components(tumor, preprocess_mode=3, debug=options['debug'], n=2, output_res=options['debug'])\n",
    "\n",
    "if options['show_res']:\n",
    "    plt.imshow(open_full_cc)\n",
    "    plt.show()\n",
    "    plt.imshow([open_full_colors])\n",
    "    plt.show()\n",
    "\n",
    "    plt.imshow(open_partial_cc)\n",
    "    plt.show()\n",
    "    plt.imshow([open_partial_colors])\n",
    "    plt.show()\n",
    "\n",
    "    plt.imshow(open_fist_cc)\n",
    "    plt.show()\n",
    "    plt.imshow([open_fist_colors])\n",
    "    plt.show()\n",
    "\n",
    "    plt.imshow(tumor_cc)\n",
    "    plt.show()\n",
    "    plt.imshow([tumor_colors])\n",
    "    plt.show()\n",
    "\n",
    "if options['write_output']:\n",
    "    cv2.imwrite('./result/open_full_cc.png', open_full_cc)\n",
    "    cv2.imwrite('./result/open_partial_cc.png', open_partial_cc)\n",
    "    cv2.imwrite('./result/open_fist_cc.png', open_fist_cc)\n",
    "    cv2.imwrite('./result/tumor_cc.png', tumor_cc)\n"
   ]
  },
  {
   "cell_type": "code",
   "execution_count": null,
   "metadata": {},
   "outputs": [],
   "source": [
    "# 3. Boundary \n",
    "open_full_boundaries, open_full_overlay, open_full_boundary_img = boundary_tracing(open_full_cc, open_full_colors, [0,0,0], debug=options['debug'])\n",
    "open_partial_boundary, open_partial_overlay, open_partial_boundary_img = boundary_tracing(open_partial_cc, open_partial_colors, [0,0,0], debug=options['debug'])\n",
    "\n",
    "open_fist_boundary_1, open_fist_overlay_1, open_fist_boundary_img_1 = boundary_tracing(open_fist_cc, [open_fist_colors[0]], [0,0,0], debug=options['debug'])\n",
    "open_fist_boundary_2, open_fist_overlay_2, open_fist_boundary_img_2 = boundary_tracing(open_fist_cc, [open_fist_colors[1]], [0,0,0], debug=options['debug'])\n",
    "\n",
    "# TODO: Merge into method below\n",
    "for i in range(open_fist_boundary_img_1.shape[1]):\n",
    "    for j in range(open_fist_boundary_img_1.shape[0]):\n",
    "        if np.all(open_fist_boundary_img_2[j][i] == [0,0,0]):\n",
    "            open_fist_boundary_img_1[j][i] = [0,0,0]\n",
    "\n",
    "tumor_boundary, tumor_overlay, tumor_boundary_img = boundary_tracing(tumor_cc, tumor_colors, [0,0,0], debug=options['debug'])\n",
    "\n",
    "if options['write_output']:\n",
    "    cv2.imwrite('./result/open_full_boundary_img.png', open_full_boundary_img)\n",
    "    cv2.imwrite('./result/open_partial_boundary_img.png', open_partial_boundary_img)\n",
    "    cv2.imwrite('./result/open_fist_boundary_img.png', open_fist_boundary_img_1)\n",
    "    cv2.imwrite('./result/tumor_boundary_img.png', tumor_boundary_img)\n",
    "\n",
    "if options['show_res']:\n",
    "    plt.imshow(open_full_boundary_img)\n",
    "    plt.show()\n",
    "\n",
    "    plt.imshow(open_partial_boundary_img)\n",
    "    plt.show()\n",
    "\n",
    "    plt.imshow(open_fist_boundary_img_1)\n",
    "    plt.show()\n",
    "\n",
    "    plt.imshow(tumor_boundary_img)\n",
    "    plt.show()"
   ]
  },
  {
   "cell_type": "code",
   "execution_count": null,
   "metadata": {},
   "outputs": [],
   "source": [
    "# 4. Moment Calculations\n",
    "open_full_moment = calc_moment_numbers(open_full_cc,open_full_colors[0], open_full_boundary_img, debug=options['debug'])\n",
    "open_partial_moment = calc_moment_numbers(open_partial_cc,open_partial_colors[0], open_partial_boundary_img, debug=options['debug'])\n",
    "open_fist_moment_1 = calc_moment_numbers(open_fist_cc,open_fist_colors[0], open_fist_boundary_img_1, debug=options['debug'])\n",
    "open_fist_moment_2 = calc_moment_numbers(open_fist_cc,open_fist_colors[1], open_fist_boundary_img_2, debug=options['debug'])\n",
    "tumor_moment = calc_moment_numbers(tumor_cc,tumor_colors[0], tumor_boundary_img, debug=options['debug'])\n",
    "\n",
    "if options['show_moment_res']:\n",
    "    print(\"open_full_moment\")\n",
    "    pretty_print_obj(open_full_moment)\n",
    "    \n",
    "    print(\"\\nopen_partial_moment\")\n",
    "    pretty_print_obj(open_partial_moment)\n",
    "    \n",
    "    print(\"\\nopen_fist_moment_1\")\n",
    "    pretty_print_obj(open_fist_moment_1)\n",
    "    \n",
    "    print(\"\\nopen_fist_moment_2\")\n",
    "    pretty_print_obj(open_fist_moment_2)\n",
    "    \n",
    "    print(\"\\ntumor_moment\")\n",
    "    pretty_print_obj(tumor_moment)"
   ]
  },
  {
   "cell_type": "code",
   "execution_count": null,
   "metadata": {},
   "outputs": [],
   "source": [
    "# 5. Skeleton Finding Algorithm\n",
    "open_full_skeleton = skeletonize(open_full_cc)\n",
    "open_partial_skeleton = skeletonize(open_partial_cc)\n",
    "open_fist_skeleton = skeletonize(open_fist_cc, gray_then_thres=True)\n",
    "tumor_skeleton = skeletonize(tumor_cc)\n",
    "\n",
    "if options['show_res']:\n",
    "    plt.imshow(open_full_skeleton)\n",
    "    plt.show()\n",
    "    plt.imshow(open_partial_skeleton)\n",
    "    plt.show()\n",
    "    plt.imshow(open_fist_skeleton)\n",
    "    plt.show()\n",
    "    plt.imshow(tumor_skeleton)\n",
    "    plt.show()\n",
    "    \n",
    "if options['write_output']:\n",
    "    cv2.imwrite('./result/open_full_skeleton.png', open_full_skeleton)\n",
    "    cv2.imwrite('./result/open_partial_skeleton.png', open_partial_skeleton)\n",
    "    cv2.imwrite('./result/open_fist_skeleton.png', open_fist_skeleton)\n",
    "    cv2.imwrite('./result/tumor_skeleton.png', tumor_skeleton)"
   ]
  }
 ],
 "metadata": {
  "kernelspec": {
   "display_name": "Python 3",
   "language": "python",
   "name": "python3"
  },
  "language_info": {
   "codemirror_mode": {
    "name": "ipython",
    "version": 3
   },
   "file_extension": ".py",
   "mimetype": "text/x-python",
   "name": "python",
   "nbconvert_exporter": "python",
   "pygments_lexer": "ipython3",
   "version": "3.7.3"
  }
 },
 "nbformat": 4,
 "nbformat_minor": 2
}
