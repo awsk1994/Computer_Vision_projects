{
 "cells": [
  {
   "cell_type": "markdown",
   "metadata": {},
   "source": [
    "Jai Hanuman"
   ]
  },
  {
   "cell_type": "code",
   "execution_count": 1,
   "metadata": {},
   "outputs": [],
   "source": [
    "import numpy as np"
   ]
  },
  {
   "cell_type": "code",
   "execution_count": null,
   "metadata": {},
   "outputs": [],
   "source": [
    "measurements = np.array([[1,1],[2,1],[3,1],[4,1],[5,1],[6,1],[7,1],[8,1],[9,1],[10,1],])"
   ]
  },
  {
   "cell_type": "code",
   "execution_count": null,
   "metadata": {},
   "outputs": [],
   "source": [
    "alpha  = beta = 0.5"
   ]
  },
  {
   "cell_type": "code",
   "execution_count": null,
   "metadata": {},
   "outputs": [],
   "source": [
    "x_prev = np.array([0,0])\n",
    "v_prev = np.array([0,0])"
   ]
  },
  {
   "cell_type": "code",
   "execution_count": null,
   "metadata": {},
   "outputs": [],
   "source": [
    "for i in range(len(measurements)):\n",
    "    x_pred = x_prev + v_prev\n",
    "    v_pred = v_prev\n",
    "    res = measurements[i]-x_pred\n",
    "    x_est = x_pred + alpha * res\n",
    "    v_est = v_pred + beta * res\n",
    "    print(x_est)\n",
    "    v_prev = v_est\n",
    "    x_prev = x_est"
   ]
  },
  {
   "cell_type": "code",
   "execution_count": null,
   "metadata": {},
   "outputs": [],
   "source": [
    "# Not bad nailed it for the 2D single object case"
   ]
  },
  {
   "cell_type": "code",
   "execution_count": null,
   "metadata": {},
   "outputs": [],
   "source": [
    "# next, multiple objects (2 objects)"
   ]
  },
  {
   "cell_type": "code",
   "execution_count": null,
   "metadata": {},
   "outputs": [],
   "source": [
    "measurements = np.array([[[1,1],[1,2]],\n",
    "                         [[2,1],[2,2]],\n",
    "                         [[3,1],[3,2]],\n",
    "                         [[4,1],[4,2]],\n",
    "                         [[5,1],[5,2]],\n",
    "                         [[6,1],[6,2]],\n",
    "                         [[7,1],[7,2]],\n",
    "                         [[8,1],[8,2]],\n",
    "                         [[9,1],[9,2]],\n",
    "                         [[10,1],[10,2]],])"
   ]
  },
  {
   "cell_type": "code",
   "execution_count": null,
   "metadata": {},
   "outputs": [],
   "source": [
    "alpha  = beta = 0.5"
   ]
  },
  {
   "cell_type": "code",
   "execution_count": null,
   "metadata": {},
   "outputs": [],
   "source": [
    "x_prev = np.array([[0,0],[0,0]])\n",
    "v_prev = np.array([[0,0],[0,0]])"
   ]
  },
  {
   "cell_type": "code",
   "execution_count": null,
   "metadata": {},
   "outputs": [],
   "source": [
    "for i in range(len(measurements)):\n",
    "    x_pred = x_prev + v_prev\n",
    "    v_pred = v_prev\n",
    "    res = measurements[i]-x_pred\n",
    "    x_est = x_pred + alpha * res\n",
    "    v_est = v_pred + beta * res\n",
    "    print(x_est)\n",
    "    v_prev = v_est\n",
    "    x_prev = x_est"
   ]
  },
  {
   "cell_type": "code",
   "execution_count": null,
   "metadata": {},
   "outputs": [],
   "source": [
    "# next, data association\n",
    "# also using prior knowledge that there are 2 objects in the frame"
   ]
  },
  {
   "cell_type": "code",
   "execution_count": null,
   "metadata": {},
   "outputs": [],
   "source": [
    "measurements = [[[1,1],[1,4]],\n",
    "                         [[2,1],[2,4]],\n",
    "                         [[3,1],[3,4]],\n",
    "                         [[4,1],[4,4]],\n",
    "                         [[5,1],[5,4]],\n",
    "                         [[6,1],[6,4]],\n",
    "                         [[7,1],[7,4]],\n",
    "                         [[8,1],[8,4]],\n",
    "                         [[9,1],[9,4]],\n",
    "                         [[10,1],[10,4]],]"
   ]
  },
  {
   "cell_type": "code",
   "execution_count": null,
   "metadata": {},
   "outputs": [],
   "source": [
    "alpha  = beta = 0.5"
   ]
  },
  {
   "cell_type": "code",
   "execution_count": null,
   "metadata": {},
   "outputs": [],
   "source": [
    "def get_x_pred(x_prev,v_prev):\n",
    "    # add only the measurements and not ids\n",
    "    # assuming ids are sorted and do not change\n",
    "    x_pred = []\n",
    "    for i in range(len(x_prev)):\n",
    "        x_pred.append([[x_prev[i][0][0]+v_prev[i][0][0],x_prev[i][0][1]+v_prev[i][0][1]],x_prev[i][1]])\n",
    "    return x_pred"
   ]
  },
  {
   "cell_type": "code",
   "execution_count": null,
   "metadata": {},
   "outputs": [],
   "source": [
    "def distance(a,b):\n",
    "    # euclidien listance\n",
    "    return np.linalg.norm(np.array(a)-np.array(b))"
   ]
  },
  {
   "cell_type": "code",
   "execution_count": null,
   "metadata": {},
   "outputs": [],
   "source": [
    "def association(x_pred, frame_measurements):\n",
    "    \n",
    "    # obviously for each object\n",
    "    # using greedy knowledge that smaller frame ids correspond to older objects\n",
    "    # assuming, x_pred is sorted by object id\n",
    "    # use an other array to tell if measurement already associated with an object\n",
    "    \n",
    "    # currently no gating, should add gating\n",
    "    cur_measurements = []\n",
    "    measurement_taken=np.zeros((len(frame_measurements)))\n",
    "    for i in range(len(x_pred)):\n",
    "        # iterate over all measurements and pick minimum\n",
    "        minn = float('inf')\n",
    "        assigned = None\n",
    "        for j,meas in enumerate(frame_measurements):\n",
    "            if(measurement_taken[j]):\n",
    "                continue\n",
    "            dist = distance(x_pred[i][0],meas)\n",
    "            if(dist<=gating and dist<minn):\n",
    "                minn = dist\n",
    "                assigned = j\n",
    "        measurement_taken[assigned]=1\n",
    "        cur_measurements.append([frame_measurements[assigned],x_pred[i][1]])\n",
    "    return cur_measurements\n",
    "    # perform gating\n",
    "    # solve\n",
    "    # assign object ids and then\n"
   ]
  },
  {
   "cell_type": "code",
   "execution_count": null,
   "metadata": {},
   "outputs": [],
   "source": [
    "def subtract(frame_measurements,x_pred):\n",
    "    # perform object wise subtraction\n",
    "    res = []\n",
    "    for i in range(len(x_pred)):\n",
    "        res.append([[frame_measurements[i][0][0]-x_pred[i][0][0],frame_measurements[i][0][1]-x_pred[i][0][1]],x_pred[i][1]])\n",
    "    return res"
   ]
  },
  {
   "cell_type": "code",
   "execution_count": null,
   "metadata": {},
   "outputs": [],
   "source": [
    "def update(x_pred,alpha,res):\n",
    "    x_est = []\n",
    "    for i in range(len(x_pred)):\n",
    "        x_est.append([[x_pred[i][0][0] + alpha * res[i][0][0],x_pred[i][0][1] + alpha * res[i][0][1]],x_pred[i][1]])\n",
    "    return x_est"
   ]
  },
  {
   "cell_type": "code",
   "execution_count": null,
   "metadata": {},
   "outputs": [],
   "source": [
    "x_prev = []\n",
    "v_prev = []\n",
    "for i in range(len(measurements[0])):\n",
    "    x_prev.append([[0,0],i+1])\n",
    "    v_prev.append([[0,0],i+1])"
   ]
  },
  {
   "cell_type": "code",
   "execution_count": null,
   "metadata": {},
   "outputs": [],
   "source": [
    "# assume measurements do not correspond\n",
    "gating = 5 # a radius of 5 units of euc dist\n",
    "# x_prev = [[[0,0],1],[[0,0],2]] \n",
    "# v_prev = [[[0,0],1],[[0,0],2]] # this step is key to maintain the sorted order, the only problem I see is that \n",
    "# new objects popping up - how ever if we assign bigger ids, and always append I think it would be fine\n",
    "for i in range(len(measurements)):\n",
    "    x_pred = get_x_pred(x_prev, v_prev)\n",
    "    v_pred = v_prev\n",
    "    cur_measurements = association(x_pred,measurements[i])\n",
    "    res = subtract(cur_measurements,x_pred)\n",
    "    x_est = update(x_pred,alpha,res)\n",
    "    v_est = update(v_pred,beta,res)\n",
    "    print(x_est)\n",
    "    v_prev = v_est\n",
    "    x_prev = x_est"
   ]
  },
  {
   "cell_type": "code",
   "execution_count": null,
   "metadata": {},
   "outputs": [],
   "source": [
    "# If each frame can have a variable number of objects then we wont know how many x_prev to assign ? Hack - use the number\n",
    "# of detections in the first frame"
   ]
  },
  {
   "cell_type": "code",
   "execution_count": null,
   "metadata": {},
   "outputs": [],
   "source": [
    "# tracking appearing and dissapearing objects"
   ]
  },
  {
   "cell_type": "code",
   "execution_count": null,
   "metadata": {},
   "outputs": [],
   "source": [
    "# dummy node to enforce both new objects and dissapearing objects"
   ]
  },
  {
   "cell_type": "code",
   "execution_count": 2,
   "metadata": {},
   "outputs": [],
   "source": [
    "measurements = [[[1,1],[1,4]],\n",
    "                         [[2,1],[2,4]],\n",
    "                         [[3,1],[3,4]],\n",
    "                         [[4,1],[4,4]],\n",
    "                         [[5,1]],\n",
    "                         [[6,1],[6,4]],\n",
    "                         [[7,1],[7,4]],\n",
    "                         [[8,1],[8,4]],\n",
    "                         [[9,1],[9,4]],\n",
    "                         [[10,1],[10,4]],]"
   ]
  },
  {
   "cell_type": "code",
   "execution_count": 10,
   "metadata": {},
   "outputs": [],
   "source": [
    "def get_x_pred(x_prev,v_prev):\n",
    "    # add only the measurements and not ids\n",
    "    # assuming ids are sorted and do not change\n",
    "    x_pred = []\n",
    "    for i in range(len(x_prev)):\n",
    "        x_pred.append([[x_prev[i][0][0]+v_prev[i][0][0],x_prev[i][0][1]+v_prev[i][0][1]],x_prev[i][1]])\n",
    "    return x_pred\n",
    "\n",
    "def distance(a,b):\n",
    "    # euclidien listance\n",
    "    return np.linalg.norm(np.array(a)-np.array(b))\n",
    "\n",
    "def association(x_pred, frame_measurements,v_pred,num_objects):\n",
    "    to_delete = []\n",
    "    cur_measurements = []\n",
    "    measurement_taken=np.zeros((len(frame_measurements)))\n",
    "    for i in range(len(x_pred)):\n",
    "        minn = float('inf')\n",
    "        assigned = None\n",
    "        for j,meas in enumerate(frame_measurements):\n",
    "            if(measurement_taken[j]):\n",
    "                continue\n",
    "            dist = distance(x_pred[i][0],meas)\n",
    "            if(dist<=gating and dist<minn):\n",
    "                minn = dist\n",
    "                assigned = j\n",
    "        if(not(assigned)==None):\n",
    "            measurement_taken[assigned]=1\n",
    "            cur_measurements.append([frame_measurements[assigned],x_pred[i][1]])\n",
    "        else:\n",
    "            to_delete.append(i)\n",
    "            \n",
    "    # some measurements may not be taken - new objects\n",
    "#     prev_assigned_number = x_pred[-1][1]\n",
    "    for i in range(len(measurement_taken)):\n",
    "        if(measurement_taken[i]==0):\n",
    "#             x_pred.append([[0,0],prev_assigned_number+1]) # to account for new entries, kind of like prior\n",
    "#             v_pred.append([[0,0],prev_assigned_number+1]) # to account for new entries, kind of like prior\n",
    "#             cur_measurements.append([frame_measurements[i],prev_assigned_number+1])\n",
    "#             prev_assigned_number = prev_assigned_number + 1\n",
    "            x_pred.append([[0,0],num_objects+1]) # to account for new entries, kind of like prior\n",
    "            v_pred.append([[0,0],num_objects+1]) # to account for new entries, kind of like prior\n",
    "            cur_measurements.append([frame_measurements[i],num_objects+1])\n",
    "            num_objects = num_objects + 1\n",
    "            \n",
    "    # some x_pred may dissapear\n",
    "    # delete elements indexed in to_delete\n",
    "    for i in sorted(to_delete, reverse=True): # delete the higher index first to avoid delete races\n",
    "        del x_pred[i]\n",
    "        del v_pred[i]\n",
    "    return cur_measurements\n",
    "\n",
    "def subtract(frame_measurements,x_pred):\n",
    "    # perform object wise subtraction\n",
    "    res = []\n",
    "    # the below assumes element wise alignment, this may or may not hold\n",
    "    for i in range(len(x_pred)):\n",
    "        res.append([[frame_measurements[i][0][0]-x_pred[i][0][0],frame_measurements[i][0][1]-x_pred[i][0][1]],x_pred[i][1]])\n",
    "    return res\n",
    "\n",
    "def update(x_pred,alpha,res):\n",
    "    x_est = []\n",
    "    for i in range(len(x_pred)):\n",
    "        x_est.append([[x_pred[i][0][0] + alpha * res[i][0][0],x_pred[i][0][1] + alpha * res[i][0][1]],x_pred[i][1]])\n",
    "    return x_est"
   ]
  },
  {
   "cell_type": "code",
   "execution_count": 11,
   "metadata": {},
   "outputs": [],
   "source": [
    "alpha  = beta = 0.5"
   ]
  },
  {
   "cell_type": "code",
   "execution_count": 12,
   "metadata": {},
   "outputs": [],
   "source": [
    "x_prev = []\n",
    "v_prev = []\n",
    "num_objects = len(measurements[0])\n",
    "for i in range(len(measurements[0])):\n",
    "    x_prev.append([[0,0],i+1])\n",
    "    v_prev.append([[0,0],i+1])\n",
    "\n",
    "x_pos_compiled = []\n",
    "gating = 5 # a radius of 5 units of euc dist\n",
    "for i in range(len(measurements)):\n",
    "    x_pred = get_x_pred(x_prev, v_prev)\n",
    "#     print(\"x_pred after prediction\",x_pred)\n",
    "    v_pred = v_prev\n",
    "#     print('v_pred after prediction',v_pred)\n",
    "    cur_measurements = association(x_pred,measurements[i],v_pred,num_objects)\n",
    "#     print('cur_measurements',cur_measurements)\n",
    "    # the above function also changes x_pred, v_pred, num_objects\n",
    "    res = subtract(cur_measurements,x_pred)\n",
    "    x_est = update(x_pred,alpha,res)\n",
    "    v_est = update(v_pred,beta,res)\n",
    "#     print(x_est)\n",
    "    x_pos_compiled.append(x_est)\n",
    "    v_prev = v_est\n",
    "    x_prev = x_est"
   ]
  },
  {
   "cell_type": "code",
   "execution_count": 13,
   "metadata": {},
   "outputs": [
    {
     "name": "stdout",
     "output_type": "stream",
     "text": [
      "[[[[0.5, 0.5], 1], [[0.5, 2.0], 2]], [[[1.5, 1.0], 1], [[1.5, 4.0], 2]], [[[2.75, 1.25], 1], [[2.75, 5.0], 2]], [[[4.0, 1.25], 1], [[4.0, 5.0], 2]], [[[5.125, 1.125], 1]], [[[6.125, 1.0], 1], [[3.0, 2.0], 3]], [[[7.0625, 0.9375], 1], [[6.5, 4.0], 3]], [[[8.0, 0.9375], 1], [[9.0, 5.0], 3]], [[[8.96875, 0.96875], 1], [[10.25, 5.0], 3]], [[[9.96875, 1.0], 1], [[10.75, 4.5], 3]]]\n"
     ]
    }
   ],
   "source": [
    "print(x_pos_compiled)"
   ]
  },
  {
   "cell_type": "code",
   "execution_count": null,
   "metadata": {},
   "outputs": [],
   "source": [
    "from matplotlib import cm\n",
    "import matplotlib.pyplot as plt"
   ]
  },
  {
   "cell_type": "code",
   "execution_count": null,
   "metadata": {},
   "outputs": [],
   "source": [
    "def draw(x_pos_compiled):\n",
    "    hash= {}\n",
    "    for frame_num in range(len(x_pos_compiled)):\n",
    "        for detection in x_pos_compiled[frame_num]:\n",
    "            if detection[1] in hash:\n",
    "                hash[detection[1]]['y'].append(detection[0][0])\n",
    "                hash[detection[1]]['x'].append(detection[0][1])\n",
    "            else:\n",
    "                hash[detection[1]]={'y':[detection[0][0]],'x':[detection[0][1]]}\n",
    "    # seems fine\n",
    "    colors = cm.rainbow(np.linspace(0, 1, len(hash)))\n",
    "#     print(colors)\n",
    "    for key in hash:\n",
    "        plt.plot(hash[key]['y'], hash[key]['x'], c=colors[key-1],marker='o')\n",
    "    plt.show()\n",
    "    return hash"
   ]
  },
  {
   "cell_type": "code",
   "execution_count": null,
   "metadata": {},
   "outputs": [],
   "source": [
    "draw(x_pos_compiled)"
   ]
  },
  {
   "cell_type": "code",
   "execution_count": null,
   "metadata": {},
   "outputs": [],
   "source": [
    "# colors = cm.rainbow(np.linspace(0, 1, len(hash)))"
   ]
  },
  {
   "cell_type": "code",
   "execution_count": null,
   "metadata": {},
   "outputs": [],
   "source": [
    "len(x_pos_compiled)"
   ]
  },
  {
   "cell_type": "code",
   "execution_count": null,
   "metadata": {},
   "outputs": [],
   "source": [
    "x_pos_compiled"
   ]
  },
  {
   "cell_type": "code",
   "execution_count": null,
   "metadata": {},
   "outputs": [],
   "source": [
    "# object id's and values going all over"
   ]
  },
  {
   "cell_type": "code",
   "execution_count": null,
   "metadata": {},
   "outputs": [],
   "source": [
    "# I think most of the dis/appearing should happen in the association function"
   ]
  },
  {
   "cell_type": "code",
   "execution_count": null,
   "metadata": {},
   "outputs": [],
   "source": [
    "            # unless we need to display the frames, we do not need to iterate over the frames\n",
    "            # perform tracking between frame and prev_frame using alpha beta\n",
    "            \n",
    "            # getting all this data to correspond frame to frame bat to bat might be hard\n",
    "            # step 1 - assign unique id to each bat\n",
    "            # x_prev_frame = assign_id(data.localization[i-1])\n",
    "            # # data association will have to go here\n",
    "            # # x_frame = data.localization[i] # cant do this directly\n",
    "            # x_pred = predict(x_prev_frame) # keep ids, same  # assuming the bat moves 1 px horizontally\n",
    "            # x_frame = association(x_pred,x_prev_frame,data.localization[i])\n",
    "            # residual = get_residual(x_frame,x_pred) # keep id's same\n",
    "            # x_update = update(x_pred,alpha,residual)\n",
    "            # no we need velocity also\n",
    "            # uncomment to viz centers\n",
    "            # for pix in data.localization[i]:\n",
    "            #     frame[pix]=[0,0,255]\n",
    "            \n",
    "    # \"\"\"\n",
    "    # Description : Function to do assign an ID to each localization\n",
    "\n",
    "    # Params:\n",
    "    # -------\n",
    "    #     localizations : list of tuples\n",
    "    #         represents y,x co-ord for each object (centroid)\n",
    "    \n",
    "    # Returns :\n",
    "    # --------\n",
    "    #     localizations_ids : list of list of tuple,int\n",
    "    #         represents y,x,object_id for each object\n",
    "    # \"\"\"\n",
    "    # def assign_id(localizations):\n",
    "    #     pass\n",
    "\n",
    "    # \"\"\"\n",
    "    # Description : Predicts location in next time step\n",
    "\n",
    "    # Params:\n",
    "    # -------\n",
    "    #     x_prev_frame : list of list of tuple,int\n",
    "    #         represents y,x,object_id for each object\n",
    "    \n",
    "    # Returns :\n",
    "    # --------\n",
    "    #     x_pred : list of list of tuple,int\n",
    "    #         represents predicted y,x,object_id for each object\n",
    "    # \"\"\"\n",
    "    # def predict(x_prev_frame):\n",
    "    #     # just add 1 to x\n",
    "    #     pass\n",
    "    \n",
    "    # \"\"\"\n",
    "    # Description : Performs data association, i.e main task assign labels to localizations\n",
    "\n",
    "    # Params:\n",
    "    # -------\n",
    "    #     x_pred : list of list of tuple,int\n",
    "    #         represents predicted y,x,object_id for each object\n",
    "    #     x_prev_frame : list of list of tuple,int\n",
    "    #         represents y,x,object_id for each object\n",
    "    #     localizations : list of tuples\n",
    "    #         represents y,x co-ord for each object (centroid)\n",
    "    \n",
    "    # Returns :\n",
    "    # --------\n",
    "    #     x_pred : list of list of tuple,int\n",
    "    #         represents predicted y,x,object_id for each object\n",
    "    # \"\"\"\n",
    "    # def association(x_pred,x_prev_frame,localizations):\n",
    "    #     pass\n",
    "\n",
    "    # \"\"\"\n",
    "    # Description : Get residual, perform id wise subtraction\n",
    "\n",
    "    # Params:\n",
    "    # -------\n",
    "    #     x_pred : list of list of tuple,int\n",
    "    #         represents predicted y,x,object_id for each object\n",
    "    #     x_frame : list of list of tuple,int\n",
    "    #         represents y,x,object_id for each object\n",
    "    #     localizations : list of tuples\n",
    "    #         represents y,x co-ord for each object (centroid)\n",
    "    \n",
    "    # Returns :\n",
    "    # --------\n",
    "    #     residual : list of list of tuple,int\n",
    "    #         represents residual for each object\n",
    "    # \"\"\"\n",
    "    # def get_residual(x_frame,x_pred):\n",
    "    #     pass\n",
    "    \n",
    "    # \"\"\"\n",
    "    # Description : Perform update\n",
    "\n",
    "    # Params:\n",
    "    # -------\n",
    "    #     x_pred : list of list of tuple,int\n",
    "    #         represents predicted y,x,object_id for each object\n",
    "    #     alpha : float\n",
    "    #         trade off factor\n",
    "    #     residual : list of list of tuple,int\n",
    "    #         represents residual for each object\n",
    "    \n",
    "    # Returns :\n",
    "    # --------\n",
    "    #     x_update : list of list of tuple,int\n",
    "    #         represents y,x,object_id for each object\n",
    "    # \"\"\"\n",
    "    # def update(x_pred,alpha,residual):\n",
    "    #     pass\n",
    "    "
   ]
  },
  {
   "cell_type": "code",
   "execution_count": null,
   "metadata": {},
   "outputs": [],
   "source": [
    "import glob"
   ]
  },
  {
   "cell_type": "code",
   "execution_count": null,
   "metadata": {},
   "outputs": [],
   "source": [
    "segmentation_path='./Segmentation'"
   ]
  },
  {
   "cell_type": "code",
   "execution_count": null,
   "metadata": {},
   "outputs": [],
   "source": [
    "for filename in glob.glob(segmentation_path + '\\*.txt'):\n",
    "    image = []\n",
    "    f = open(filename,'r')\n",
    "    string_image= f.read().splitlines()\n",
    "    for row in string_image:\n",
    "        image.append([int(x) for x in row.split(',')])"
   ]
  },
  {
   "cell_type": "code",
   "execution_count": null,
   "metadata": {},
   "outputs": [],
   "source": [
    "import random"
   ]
  },
  {
   "cell_type": "code",
   "execution_count": null,
   "metadata": {},
   "outputs": [],
   "source": [
    "color_hash ={}\n",
    "for i in range(10**6):\n",
    "    color_hash[i]=(random.randint(0,255),random.randint(0,255),random.randint(0,255))"
   ]
  },
  {
   "cell_type": "code",
   "execution_count": null,
   "metadata": {},
   "outputs": [],
   "source": [
    "color_hash"
   ]
  },
  {
   "cell_type": "code",
   "execution_count": null,
   "metadata": {},
   "outputs": [],
   "source": []
  }
 ],
 "metadata": {
  "kernelspec": {
   "display_name": "Python 3",
   "language": "python",
   "name": "python3"
  },
  "language_info": {
   "codemirror_mode": {
    "name": "ipython",
    "version": 3
   },
   "file_extension": ".py",
   "mimetype": "text/x-python",
   "name": "python",
   "nbconvert_exporter": "python",
   "pygments_lexer": "ipython3",
   "version": "3.6.10"
  }
 },
 "nbformat": 4,
 "nbformat_minor": 4
}
